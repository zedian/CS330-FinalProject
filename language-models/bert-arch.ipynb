{
 "cells": [
  {
   "cell_type": "code",
   "execution_count": 1,
   "id": "2aba76c0-1564-4de7-827f-f2738c24f622",
   "metadata": {},
   "outputs": [
    {
     "name": "stdout",
     "output_type": "stream",
     "text": [
      "/data/2022F/CS330/project\n"
     ]
    }
   ],
   "source": [
    "cd .."
   ]
  },
  {
   "cell_type": "code",
   "execution_count": 2,
   "id": "de431770-d30a-441a-b42a-19cb505b4eed",
   "metadata": {},
   "outputs": [],
   "source": [
    "%load_ext autoreload\n",
    "%autoreload 2"
   ]
  },
  {
   "cell_type": "code",
   "execution_count": 3,
   "id": "28936bd5-4bfe-4ef2-b83f-41f64d29c84d",
   "metadata": {},
   "outputs": [],
   "source": [
    "import itertools\n",
    "\n",
    "import matplotlib.pyplot as plt\n",
    "\n",
    "import torch\n",
    "from torch import nn\n",
    "import torch.nn.functional as F\n",
    "from torch.utils.data import DataLoader\n",
    "from tqdm import tqdm\n",
    "\n",
    "import model\n",
    "import utils\n",
    "import train"
   ]
  },
  {
   "cell_type": "code",
   "execution_count": 4,
   "id": "b91d5ff8-d6c6-4529-85d3-ea03ee90d532",
   "metadata": {},
   "outputs": [],
   "source": [
    "import pickle\n",
    "from pathlib import Path\n",
    "\n",
    "pathCache = Path('cache/experiment-lang')\n",
    "pathCache.mkdir(exist_ok=True, parents=True)"
   ]
  },
  {
   "cell_type": "markdown",
   "id": "271e9974-b0bd-4eba-bd96-5c462658e0bf",
   "metadata": {
    "tags": []
   },
   "source": [
    "## Task Setup\n",
    "Setup datasets, loss functions, etc."
   ]
  },
  {
   "cell_type": "code",
   "execution_count": 5,
   "id": "b96af837-d0b0-4126-89f5-28e7a602a47c",
   "metadata": {},
   "outputs": [
    {
     "name": "stderr",
     "output_type": "stream",
     "text": [
      "Some weights of the model checkpoint at prajjwal1/bert-medium were not used when initializing BertForSequenceClassification: ['cls.predictions.transform.LayerNorm.weight', 'cls.predictions.bias', 'cls.seq_relationship.weight', 'cls.predictions.decoder.bias', 'cls.predictions.decoder.weight', 'cls.seq_relationship.bias', 'cls.predictions.transform.dense.weight', 'cls.predictions.transform.dense.bias', 'cls.predictions.transform.LayerNorm.bias']\n",
      "- This IS expected if you are initializing BertForSequenceClassification from the checkpoint of a model trained on another task or with another architecture (e.g. initializing a BertForSequenceClassification model from a BertForPreTraining model).\n",
      "- This IS NOT expected if you are initializing BertForSequenceClassification from the checkpoint of a model that you expect to be exactly identical (initializing a BertForSequenceClassification model from a BertForSequenceClassification model).\n",
      "Some weights of BertForSequenceClassification were not initialized from the model checkpoint at prajjwal1/bert-medium and are newly initialized: ['classifier.bias', 'classifier.weight']\n",
      "You should probably TRAIN this model on a down-stream task to be able to use it for predictions and inference.\n",
      "Found cached dataset glue (/home/jovyan/.cache/huggingface/datasets/glue/mrpc/1.0.0/dacbe3125aa31d7f70367a07a8a9e72a5a0bfeb5fc42e75c9db75b96da6053ad)\n",
      "Loading cached processed dataset at /home/jovyan/.cache/huggingface/datasets/glue/mrpc/1.0.0/dacbe3125aa31d7f70367a07a8a9e72a5a0bfeb5fc42e75c9db75b96da6053ad/cache-077e7e974f304fda.arrow\n",
      "Found cached dataset glue (/home/jovyan/.cache/huggingface/datasets/glue/mrpc/1.0.0/dacbe3125aa31d7f70367a07a8a9e72a5a0bfeb5fc42e75c9db75b96da6053ad)\n",
      "Loading cached processed dataset at /home/jovyan/.cache/huggingface/datasets/glue/mrpc/1.0.0/dacbe3125aa31d7f70367a07a8a9e72a5a0bfeb5fc42e75c9db75b96da6053ad/cache-f6f70f753f4f5f90.arrow\n",
      "Found cached dataset glue (/home/jovyan/.cache/huggingface/datasets/glue/qnli/1.0.0/dacbe3125aa31d7f70367a07a8a9e72a5a0bfeb5fc42e75c9db75b96da6053ad)\n",
      "Loading cached processed dataset at /home/jovyan/.cache/huggingface/datasets/glue/qnli/1.0.0/dacbe3125aa31d7f70367a07a8a9e72a5a0bfeb5fc42e75c9db75b96da6053ad/cache-4aed1240a7b9a0d2.arrow\n",
      "Found cached dataset glue (/home/jovyan/.cache/huggingface/datasets/glue/qnli/1.0.0/dacbe3125aa31d7f70367a07a8a9e72a5a0bfeb5fc42e75c9db75b96da6053ad)\n",
      "Loading cached processed dataset at /home/jovyan/.cache/huggingface/datasets/glue/qnli/1.0.0/dacbe3125aa31d7f70367a07a8a9e72a5a0bfeb5fc42e75c9db75b96da6053ad/cache-53c608f5d458373e.arrow\n"
     ]
    }
   ],
   "source": [
    "import transformers\n",
    "import experiment_lang\n",
    "\n",
    "device='cuda:1'\n",
    "\n",
    "bert, tokenizer = experiment_lang.get_model_and_tokenizer('prajjwal1/bert-medium', transformers.AutoModelForSequenceClassification)\n",
    "stop_tokens = experiment_lang.get_stop_tokens(tokenizer)\n",
    "\n",
    "def loss_func(logits, labels):\n",
    "    #print(logits, labels)\n",
    "    return F.binary_cross_entropy_with_logits(logits, labels[..., None].float())\n",
    "def get_language_task(name):\n",
    "    ds_train, ds_val = experiment_lang.get_dataset(name)\n",
    "\n",
    "    generator_train = experiment_lang.ClassificationDataGenerator(ds_train, tokenizer, device, batchSize=32)\n",
    "    generator_val = experiment_lang.ClassificationDataGenerator(ds_val, tokenizer, device, batchSize=32)\n",
    "    return {\n",
    "        'train_gen': generator_train,\n",
    "        'val_gen': generator_val,\n",
    "        'loss': loss_func, #lambda logits, labels: F.binary_cross_entropy_with_logits(logits, labels[..., None]),\n",
    "        'predict': lambda logits: torch.sigmoid(logits) > 0.5,\n",
    "        'metric': experiment_lang.get_acc,\n",
    "    }\n",
    "\n",
    "tasks = {\n",
    "    'mrpc': get_language_task('glue/mrpc'),\n",
    "    'qnli': get_language_task('glue/qnli'),\n",
    "}\n",
    "task_keys = list(tasks.keys())\n"
   ]
  },
  {
   "cell_type": "markdown",
   "id": "698efafc-cfee-4abc-a334-e49d478a6376",
   "metadata": {
    "tags": []
   },
   "source": [
    "## Experiments"
   ]
  },
  {
   "cell_type": "code",
   "execution_count": 7,
   "id": "0f10fb2f-b804-4ad8-8326-79503784f2af",
   "metadata": {},
   "outputs": [],
   "source": [
    "import torch.utils.tensorboard as TUTb\n"
   ]
  },
  {
   "cell_type": "code",
   "execution_count": null,
   "id": "fda10e6c-7106-4fc9-a820-a9a40896197a",
   "metadata": {},
   "outputs": [],
   "source": [
    "modelSeparate = experiment_lang.TaskAwareBert(bert, list(tasks.keys()), 'separate').to(device)\n",
    "writers = {k:TUTb.SummaryWriter(pathCache / f\"separate-{k}\") for k in tasks.keys()}\n",
    "separate_exp = train.train_and_evaluate(\n",
    "    model=modelSeparate,\n",
    "    tasks=tasks,\n",
    "    steps=500,\n",
    "    lr=1e-4,\n",
    "    eval_every=50,\n",
    "    DEVICE=device,\n",
    "    writers=writers,\n",
    ")\n",
    "with open(pathCache / \"separate.pickle\", \"wb\") as f:\n",
    "    pickle.dump(separate_exp, f)"
   ]
  },
  {
   "cell_type": "code",
   "execution_count": null,
   "id": "fa7a8a5f-24fc-4e88-bdd8-69f319c67928",
   "metadata": {},
   "outputs": [],
   "source": [
    "modelShared = experiment_lang.TaskAwareBert(bert, list(tasks.keys()), 'shared').to(device)\n",
    "\n",
    "writers = {k:TUTb.SummaryWriter(pathCache / f\"shared-{k}\") for k in tasks.keys()}\n",
    "fully_shared_exp = train.train_and_evaluate(\n",
    "    model=modelShared,\n",
    "    tasks=tasks,\n",
    "    steps=500,\n",
    "    lr=1e-4,\n",
    "    eval_every=50,\n",
    "    DEVICE=device,\n",
    "    writers=writers,\n",
    ")\n",
    "with open(pathCache / \"shared.pickle\", \"wb\") as f:\n",
    "    pickle.dump(fully_shared_exp, f)\n"
   ]
  },
  {
   "cell_type": "code",
   "execution_count": null,
   "id": "d1ac3c33-5f6b-4097-a05b-dd9cdd701572",
   "metadata": {},
   "outputs": [],
   "source": [
    "modelSurgical = experiment_lang.TaskAwareBert(bert, list(tasks.keys()), 'surgical').to(device)\n",
    "writers = {k:TUTb.SummaryWriter(pathCache / f\"surgical-{k}\") for k in tasks.keys()}\n",
    "surgical_exp = train.train_and_evaluate(\n",
    "    model=modelSurgical,\n",
    "    tasks=tasks,\n",
    "    steps=500,\n",
    "    lr=1e-4,\n",
    "    eval_every=50,\n",
    "    DEVICE=device,\n",
    "    writers=writers,\n",
    ")\n",
    "with open(pathCache / \"surgical.pickle\", \"wb\") as f:\n",
    "    pickle.dump(surgical_exp, f)"
   ]
  },
  {
   "cell_type": "code",
   "execution_count": null,
   "id": "306dde99-1313-450e-9b33-30b8c4605cf9",
   "metadata": {},
   "outputs": [],
   "source": [
    "\n",
    "fig, axes = plt.subplots(2, 4, figsize=(15, 6))\n",
    "for iTask, task_name in enumerate(tasks):\n",
    "\n",
    "    for exp_name, exp in [\n",
    "        ('shared', fully_shared_exp),\n",
    "        ('separate', separate_exp),\n",
    "        ('surgical', surgical_exp),\n",
    "    ]:\n",
    "        losses, metrics, eval_losses, eval_metrics = exp\n",
    "        \n",
    "        tl = [(s, l[task_name]) for s, l in losses]\n",
    "        el = [(s, l[task_name]) for s, l in eval_losses]\n",
    "        tm = [(s, float(m[task_name])) for s, m in metrics]\n",
    "        em = [(s, float(m[task_name])) for s, m in eval_metrics]\n",
    "    \n",
    "        # plot\n",
    "        ax = axes[iTask][0]\n",
    "        tl_x, tl_y = zip(*tl)\n",
    "        ax.plot(tl_x, tl_y, label=f'{exp_name}_{task_name}')\n",
    "        ax.set_title('Train Loss')\n",
    "        ax.set_yscale('log')\n",
    "        ax.legend()\n",
    "\n",
    "        ax = axes[iTask][1]\n",
    "        el_x, el_y = zip(*el)\n",
    "        ax.plot(el_x, el_y, label=f'{exp_name}_{task_name}')\n",
    "        ax.set_title('Val Loss')\n",
    "        ax.set_yscale('log')\n",
    "        ax.legend()\n",
    "\n",
    "        ax = axes[iTask][2]\n",
    "        tm_x, tm_y = zip(*tm)\n",
    "        ax.plot(tm_x, tm_y, label=f'{exp_name}_{task_name}')\n",
    "        ax.set_title('Train Accuracy')\n",
    "        #ax.set_ylim([0.95, 0.999])\n",
    "        ax.legend()\n",
    "\n",
    "        ax = axes[iTask][3]\n",
    "        em_x, em_y = zip(*em)\n",
    "        ax.plot(em_x, em_y, label=f'{exp_name}_{task_name}')\n",
    "        ax.set_title('Val Accuracy')\n",
    "        #ax.set_ylim([0.95, 0.999])\n",
    "        ax.legend()\n",
    "fig.tight_layout()"
   ]
  },
  {
   "cell_type": "code",
   "execution_count": 25,
   "id": "30727093-85d2-44c8-bead-ab49c7f81d94",
   "metadata": {},
   "outputs": [],
   "source": []
  },
  {
   "cell_type": "code",
   "execution_count": 19,
   "id": "8bf5e882-492c-45ba-83ff-4f8eb51d8aa3",
   "metadata": {},
   "outputs": [],
   "source": [
    "em = [(s, float(m['qnli'])) for s, m in eval_metrics]"
   ]
  },
  {
   "cell_type": "code",
   "execution_count": 22,
   "id": "27a684bb-b882-4c22-9640-8b15588d56f3",
   "metadata": {},
   "outputs": [
    {
     "data": {
      "text/plain": [
       "True"
      ]
     },
     "execution_count": 22,
     "metadata": {},
     "output_type": "execute_result"
    }
   ],
   "source": [
    "modelSurgical.training"
   ]
  },
  {
   "cell_type": "code",
   "execution_count": null,
   "id": "d6411f7c-5147-4e1a-8cec-d04e96a370f9",
   "metadata": {},
   "outputs": [],
   "source": []
  }
 ],
 "metadata": {
  "kernelspec": {
   "display_name": "Python 3 (ipykernel)",
   "language": "python",
   "name": "python3"
  },
  "language_info": {
   "codemirror_mode": {
    "name": "ipython",
    "version": 3
   },
   "file_extension": ".py",
   "mimetype": "text/x-python",
   "name": "python",
   "nbconvert_exporter": "python",
   "pygments_lexer": "ipython3",
   "version": "3.9.15"
  }
 },
 "nbformat": 4,
 "nbformat_minor": 5
}
