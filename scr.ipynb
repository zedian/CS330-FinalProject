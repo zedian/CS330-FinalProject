{
 "cells": [
  {
   "cell_type": "code",
   "execution_count": 285,
   "id": "536c5fec-8897-4e69-9372-f0bf74798775",
   "metadata": {},
   "outputs": [],
   "source": [
    "import matplotlib.pyplot as plt\n",
    "import numpy as np\n",
    "\n",
    "import torch\n",
    "import torchvision\n",
    "\n",
    "from torch import nn\n",
    "from torch.utils.data import DataLoader\n",
    "from tqdm import tqdm\n",
    "\n",
    "DEVICE = 'cuda' if torch.cuda.is_available() else 'cpu'"
   ]
  },
  {
   "cell_type": "markdown",
   "id": "88715dac-670d-4ca1-a68d-2ef5e233a914",
   "metadata": {},
   "source": [
    "### Toy MTL\n",
    "\n",
    "\"Is it a hotdog? Or is it not a hotdog\"\n",
    "\n",
    "Training sets will be identical for each task but labels will be binary classes for whether an example is or is not a particular digit. e.g., task 1 is about identifying digits are a 0 or not. task 2 is about identifying digits are a 1 or not."
   ]
  },
  {
   "cell_type": "code",
   "execution_count": 286,
   "id": "aff79d7b-0c06-4c48-8f6c-7caf6502633a",
   "metadata": {},
   "outputs": [],
   "source": [
    "mnist_train = torchvision.datasets.MNIST('/tmp/mnist', download=True, train=True)\n",
    "mnist_test = torchvision.datasets.MNIST('/tmp/mnist', download=True, train=False)"
   ]
  },
  {
   "cell_type": "code",
   "execution_count": 290,
   "id": "a62c44f8-5af8-4ea8-a432-489de8926d52",
   "metadata": {},
   "outputs": [],
   "source": [
    "x_train = mnist_train.data\n",
    "y_train = mnist_train.targets\n",
    "\n",
    "x_test = mnist_test.data\n",
    "y_test = mnist_test.targets"
   ]
  },
  {
   "cell_type": "code",
   "execution_count": 291,
   "id": "569971a8-2a09-4da2-81d1-7bee86622ddc",
   "metadata": {},
   "outputs": [],
   "source": [
    "t0_digit = 2\n",
    "t1_digit = 5\n",
    "\n",
    "# NOTE: x_train, x_test remains the same for both tasks\n",
    "\n",
    "y_t0_train = torch.where(y_train == t0_digit, 1, 0)\n",
    "y_t0_test = torch.where(y_test == t0_digit, 1, 0)\n",
    "y_t1_train = torch.where(y_train == t1_digit, 1, 0)\n",
    "y_t1_test = torch.where(y_test == t1_digit, 1, 0)"
   ]
  },
  {
   "cell_type": "code",
   "execution_count": 301,
   "id": "d415f49d-6177-45ba-9edc-bb9ad58936c0",
   "metadata": {},
   "outputs": [],
   "source": [
    "def accuracy(y_hat, y):\n",
    "    assert y_hat.shape == y.shape\n",
    "    n_classes = y_hat.shape[-1]\n",
    "    y_hat = y_hat.view(-1, n_classes)\n",
    "    y = y.view(-1, n_classes)\n",
    "    n_correct = torch.sum(y_hat == y)\n",
    "    return n_correct / y_hat.numel()"
   ]
  },
  {
   "cell_type": "code",
   "execution_count": 292,
   "id": "dd83a251-891a-404a-addc-65deef472561",
   "metadata": {},
   "outputs": [],
   "source": [
    "class MultiTaskDataset:\n",
    "    def __init__(self, x, t0_y, t1_y):\n",
    "        self.x = x\n",
    "        self.t0_y = t0_y\n",
    "        self.t1_y = t1_y\n",
    "        \n",
    "    def __getitem__(self, idx):\n",
    "        return self.x[idx] / 255., self.t0_y[idx], self.t1_y[idx]\n",
    "            \n",
    "    def __len__(self):\n",
    "        return len(self.x)"
   ]
  },
  {
   "cell_type": "code",
   "execution_count": 369,
   "id": "71d0ab7a-c91f-4049-8ba0-96eca2b8f51c",
   "metadata": {},
   "outputs": [],
   "source": [
    "class TaskFiLM(nn.Module):\n",
    "    def __init__(self, channels, n_tasks, embedding_dim=512):\n",
    "        super().__init__()\n",
    "        self.embed = nn.Embedding(n_tasks, embedding_dim)\n",
    "        self.scale = nn.Linear(embedding_dim, channels)\n",
    "        self.shift = nn.Linear(embedding_dim, channels)\n",
    "        # TODO: initialize this layer so that scale is 1 and shift is 0\n",
    "        \n",
    "    def forward(self, task_idx):\n",
    "        embedding = self.embed(task_idx)\n",
    "        return self.scale(embedding), self.shift(embedding)\n",
    "        \n",
    "\n",
    "class FeaturewiseTransform(nn.Module):\n",
    "    def forward(self, x, scale, shift):\n",
    "        return scale * x + shift\n",
    "                 \n",
    "        \n",
    "class MTL(nn.Module):\n",
    "    \"\"\"Generic multi-task learner.\"\"\"\n",
    "\n",
    "    def __init__(self, shared=True):\n",
    "        super().__init__()\n",
    "        \n",
    "        self.shared = shared\n",
    "        \n",
    "        self.backbone = nn.Sequential(\n",
    "            nn.Linear(28 * 28, 32),\n",
    "            nn.ReLU(),\n",
    "        )\n",
    "        \n",
    "        if not self.shared:\n",
    "            self.backbone2 = nn.Sequential(\n",
    "                nn.Linear(28 * 28, 32),\n",
    "                nn.ReLU(),\n",
    "            )\n",
    "                \n",
    "        self.t0_head = nn.Linear(32, 1)\n",
    "        self.t1_head = nn.Linear(32, 1)\n",
    "    \n",
    "    def forward(self, x):\n",
    "        x = x.view(-1, 28 * 28)\n",
    "        t0_logits = self.t0_head(self.backbone(x))\n",
    "        \n",
    "        if not self.shared:\n",
    "            t1_logits = self.t1_head(self.backbone2(x))\n",
    "        else:\n",
    "            t1_logits = self.t1_head(self.backbone(x))\n",
    "        \n",
    "        return t0_logits, t1_logits\n",
    "    \n",
    "    def loss(self, x, t0_y, t1_y, t0_lambda=1.0, t1_lambda=1.0):\n",
    "        t0_logits, t1_logits = self.forward(x)\n",
    "        t0_logits = t0_logits.view(-1,)\n",
    "        t1_logits = t1_logits.view(-1,)\n",
    "        \n",
    "        t0_loss = nn.functional.binary_cross_entropy_with_logits(t0_logits, t0_y)\n",
    "        t1_loss = nn.functional.binary_cross_entropy_with_logits(t1_logits, t1_y)\n",
    "        total_loss = t0_lambda * t0_loss + t1_lambda * t1_loss\n",
    "        losses = {\n",
    "            'loss/total': total_loss,\n",
    "            'loss/t0': t0_loss,\n",
    "            'loss/t1': t1_loss,\n",
    "        }\n",
    "        return losses\n",
    "    \n",
    "    \n",
    "class FiLMTL(MTL):\n",
    "    \"\"\"Task-conditioned multi-task learner with FiLM.\"\"\"\n",
    "    \n",
    "    def __init__(self, n_tasks):\n",
    "        super().__init__()\n",
    "   \n",
    "        self.film_gen = TaskFiLM(32, n_tasks=n_tasks, embedding_dim=64)\n",
    "        \n",
    "        # backbone\n",
    "        self.in_proj = nn.Linear(28 * 28, 32)\n",
    "        self.transform = FeaturewiseTransform()\n",
    "        self.relu = nn.ReLU()\n",
    "        \n",
    "        # heads\n",
    "        self.t0_head = nn.Linear(32, 1)\n",
    "        self.t1_head = nn.Linear(32, 1)\n",
    "    \n",
    "    def forward(self, x):\n",
    "        x = x.view(-1, 28 * 28)\n",
    "\n",
    "        t0_scale, t0_shift = self.film_gen(torch.zeros(x.shape[0], dtype=torch.long, device=x.device))\n",
    "        t1_scale, t1_shift = self.film_gen(torch.ones(x.shape[0], dtype=torch.long, device=x.device))\n",
    "        \n",
    "        x = self.in_proj(x)\n",
    "        \n",
    "        t0_x = self.transform(x, t0_scale, t0_shift)\n",
    "        t0_x = self.relu(t0_x)\n",
    "        \n",
    "        t1_x = self.transform(x, t1_scale, t1_shift)\n",
    "        t1_x = self.relu(t1_x)\n",
    "        \n",
    "        t0_logits = self.t0_head(t0_x)\n",
    "        t1_logits = self.t1_head(t1_x)\n",
    "        return t0_logits, t1_logits"
   ]
  },
  {
   "cell_type": "code",
   "execution_count": 363,
   "id": "be5baa9d-5a5e-4455-8afa-560e1902bb4d",
   "metadata": {},
   "outputs": [],
   "source": [
    "def train_mtl(\n",
    "    *, \n",
    "    model, \n",
    "    train_loader, \n",
    "    val_loader, \n",
    "    lr=1e-3, \n",
    "    epochs=5, \n",
    "):\n",
    "    optimizer = torch.optim.Adam(model.parameters(), lr=lr)\n",
    "    \n",
    "    train_metrics = {'loss/total': [], \n",
    "                     'loss/t0': [], \n",
    "                     'loss/t1': [],\n",
    "                     'acc/t0': [],\n",
    "                     'acc/t1': [],\n",
    "                    }\n",
    "    val_metrics = {'loss/total': [], \n",
    "                     'loss/t0': [], \n",
    "                     'loss/t1': [],\n",
    "                     'acc/t0': [],\n",
    "                     'acc/t1': [],\n",
    "                    }\n",
    "\n",
    "    for epoch in range(epochs):\n",
    "        model.train()\n",
    "        for batch in tqdm(train_loader, total=len(train_loader)):    \n",
    "            im, t0_labels, t1_labels = batch\n",
    "            \n",
    "            loss = model.loss(im, t0_labels.float(), t1_labels.float())\n",
    "            total_loss = loss['loss/total']\n",
    "\n",
    "            optimizer.zero_grad()\n",
    "            total_loss.backward()\n",
    "            optimizer.step()\n",
    "\n",
    "            # loss metrics\n",
    "            for k in train_metrics.keys():\n",
    "                if k in loss:\n",
    "                    train_metrics[k].append(loss[k].item())\n",
    "\n",
    "            # accuracy metrics\n",
    "            t0_logits, t1_logits = model.forward(im)\n",
    "            t0_pred = nn.functional.sigmoid(t0_logits) > 0.5\n",
    "            t1_pred = nn.functional.sigmoid(t1_logits) > 0.5\n",
    "            train_metrics['acc/t0'].append(accuracy(t0_pred[:, 0], t0_labels.bool()))\n",
    "            train_metrics['acc/t1'].append(accuracy(t1_pred[:, 0], t1_labels.bool()))\n",
    "\n",
    "\n",
    "        t0_val_loss = 0\n",
    "        t1_val_loss = 0\n",
    "        t0_val_acc = 0\n",
    "        t1_val_acc = 0\n",
    "        val_count = 0\n",
    "\n",
    "        model.eval()\n",
    "        for batch in val_loader:\n",
    "            im, t0_labels, t1_labels = batch\n",
    "            val_loss = model.loss(im, t0_labels.float(), t1_labels.float())\n",
    "\n",
    "            val_count += len(im)        \n",
    "            t0_val_loss += val_loss['loss/t0'].item() * len(im)\n",
    "            t1_val_loss += val_loss['loss/t1'].item() * len(im)\n",
    "\n",
    "            # accuracy metrics\n",
    "            t0_logits, t1_logits = model.forward(im)\n",
    "            t0_pred = torch.sigmoid(t0_logits) > 0.5\n",
    "            t1_pred = torch.sigmoid(t1_logits) > 0.5\n",
    "            t0_val_acc += accuracy(t0_pred[:, 0], t0_labels.bool()).item() * len(im)\n",
    "            t1_val_acc += accuracy(t1_pred[:, 0], t1_labels.bool()).item() * len(im)\n",
    "\n",
    "        val_metrics['loss/t0'].append(t0_val_loss / val_count)\n",
    "        val_metrics['loss/t1'].append(t1_val_loss / val_count)\n",
    "        val_metrics['acc/t0'].append(t0_val_acc / val_count)\n",
    "        val_metrics['acc/t1'].append(t1_val_acc / val_count)\n",
    "    \n",
    "    return train_metrics, val_metrics"
   ]
  },
  {
   "cell_type": "code",
   "execution_count": 352,
   "id": "2d129326-c563-491a-ab2d-276fe85a8409",
   "metadata": {},
   "outputs": [],
   "source": [
    "EPOCHS = 5\n",
    "LR = 3e-4\n",
    "BATCH_SIZE = 512\n",
    "\n",
    "train_ds = MultiTaskDataset(x_train, y_t0_train, y_t1_train)\n",
    "val_ds = MultiTaskDataset(x_test, y_t0_test, y_t1_test)\n",
    "train_iter = DataLoader(train_ds, batch_size=BATCH_SIZE, shuffle=True)\n",
    "val_iter = DataLoader(train_ds, batch_size=BATCH_SIZE, shuffle=False)"
   ]
  },
  {
   "cell_type": "code",
   "execution_count": 353,
   "id": "298614b4-abba-4d1f-8de1-990a5c4bb404",
   "metadata": {},
   "outputs": [
    {
     "name": "stderr",
     "output_type": "stream",
     "text": [
      "100%|██████████████████████████| 118/118 [00:00<00:00, 166.96it/s]\n",
      "100%|██████████████████████████| 118/118 [00:00<00:00, 173.19it/s]\n",
      "100%|██████████████████████████| 118/118 [00:00<00:00, 175.24it/s]\n",
      "100%|██████████████████████████| 118/118 [00:00<00:00, 140.11it/s]\n",
      "100%|██████████████████████████| 118/118 [00:00<00:00, 174.00it/s]\n"
     ]
    }
   ],
   "source": [
    "mtl = MTL(shared=True)\n",
    "_, shared_metrics = train_mtl(\n",
    "    model=mtl,\n",
    "    train_loader=train_iter, \n",
    "    val_loader=val_iter,\n",
    "    lr=LR, \n",
    "    epochs=EPOCHS,\n",
    ")"
   ]
  },
  {
   "cell_type": "code",
   "execution_count": 371,
   "id": "1699aeed-c594-4e8d-8235-6fcd0f8a7a9f",
   "metadata": {},
   "outputs": [
    {
     "name": "stderr",
     "output_type": "stream",
     "text": [
      "100%|██████████████████████████| 118/118 [00:00<00:00, 160.06it/s]\n",
      "100%|██████████████████████████| 118/118 [00:00<00:00, 165.42it/s]\n",
      "100%|██████████████████████████| 118/118 [00:00<00:00, 164.04it/s]\n",
      "100%|██████████████████████████| 118/118 [00:00<00:00, 135.93it/s]\n",
      "100%|██████████████████████████| 118/118 [00:00<00:00, 165.32it/s]\n"
     ]
    }
   ],
   "source": [
    "mtl = MTL(shared=False)\n",
    "_, separate_metrics = train_mtl(\n",
    "    model=mtl,\n",
    "    train_loader=train_iter, \n",
    "    val_loader=val_iter,\n",
    "    lr=LR, \n",
    "    epochs=EPOCHS,\n",
    ")"
   ]
  },
  {
   "cell_type": "code",
   "execution_count": 372,
   "id": "3411a36f-6e4a-4d24-8eeb-56bf82534eaf",
   "metadata": {},
   "outputs": [
    {
     "name": "stderr",
     "output_type": "stream",
     "text": [
      "100%|██████████████████████████| 118/118 [00:00<00:00, 162.50it/s]\n",
      "100%|██████████████████████████| 118/118 [00:00<00:00, 164.87it/s]\n",
      "100%|██████████████████████████| 118/118 [00:00<00:00, 163.71it/s]\n",
      "100%|██████████████████████████| 118/118 [00:00<00:00, 163.23it/s]\n",
      "100%|██████████████████████████| 118/118 [00:00<00:00, 163.23it/s]\n"
     ]
    }
   ],
   "source": [
    "mtl = FiLMTL(n_tasks=2)\n",
    "_, film_metrics = train_mtl(\n",
    "    model=mtl,\n",
    "    train_loader=train_iter, \n",
    "    val_loader=val_iter,\n",
    "    lr=LR, \n",
    "    epochs=EPOCHS,\n",
    ")"
   ]
  },
  {
   "cell_type": "code",
   "execution_count": 373,
   "id": "c53b1e66-566d-4947-9fab-23c72d1cf1d8",
   "metadata": {},
   "outputs": [
    {
     "data": {
      "text/plain": [
       "<matplotlib.legend.Legend at 0x2ed079b50>"
      ]
     },
     "execution_count": 373,
     "metadata": {},
     "output_type": "execute_result"
    },
    {
     "data": {
      "image/png": "[encoded data removed]",
      "text/plain": [
       "<Figure size 640x480 with 1 Axes>"
      ]
     },
     "metadata": {},
     "output_type": "display_data"
    }
   ],
   "source": [
    "fig, ax = plt.subplots()\n",
    "ax.plot(shared_metrics['acc/t0'], label='Shared T0')\n",
    "ax.plot(shared_metrics['acc/t1'], label='Shared T1')\n",
    "ax.plot(separate_metrics['acc/t0'], label='T0')\n",
    "ax.plot(separate_metrics['acc/t1'], label='T1')\n",
    "ax.plot(film_metrics['acc/t0'], label='FiLM T0')\n",
    "ax.plot(film_metrics['acc/t1'], label='FiLM T1')\n",
    "ax.legend()"
   ]
  },
  {
   "cell_type": "code",
   "execution_count": null,
   "id": "484642ab-6f62-4d8c-b62a-ddf81d18d113",
   "metadata": {},
   "outputs": [],
   "source": []
  },
  {
   "cell_type": "code",
   "execution_count": null,
   "id": "602780aa-c790-497b-9ad3-3f178ed8cd43",
   "metadata": {},
   "outputs": [],
   "source": []
  },
  {
   "cell_type": "code",
   "execution_count": null,
   "id": "b47c6220-fda0-455a-8c8f-bd46ebab80cf",
   "metadata": {},
   "outputs": [],
   "source": []
  },
  {
   "cell_type": "code",
   "execution_count": null,
   "id": "d10ce75e-3de3-4be0-a48b-b0c03c3017fc",
   "metadata": {},
   "outputs": [],
   "source": []
  },
  {
   "cell_type": "code",
   "execution_count": null,
   "id": "89c1feec-e277-483f-ad3b-3cfd743071d2",
   "metadata": {},
   "outputs": [],
   "source": []
  },
  {
   "cell_type": "code",
   "execution_count": null,
   "id": "a335ce7f-3531-4663-ba6a-d030c00e7f34",
   "metadata": {},
   "outputs": [],
   "source": []
  }
 ],
 "metadata": {
  "kernelspec": {
   "display_name": "Python 3 (ipykernel)",
   "language": "python",
   "name": "python3"
  },
  "language_info": {
   "codemirror_mode": {
    "name": "ipython",
    "version": 3
   },
   "file_extension": ".py",
   "mimetype": "text/x-python",
   "name": "python",
   "nbconvert_exporter": "python",
   "pygments_lexer": "ipython3",
   "version": "3.9.13"
  }
 },
 "nbformat": 4,
 "nbformat_minor": 5
}
